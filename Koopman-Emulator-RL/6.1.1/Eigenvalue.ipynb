{
 "cells": [
  {
   "cell_type": "code",
   "execution_count": 2,
   "metadata": {},
   "outputs": [],
   "source": [
    "import numpy as np\n",
    "import scipy.linalg as linalg\n",
    "import matplotlib.pyplot as plt\n",
    "import pandas as pd\n",
    "from scipy.spatial.distance import pdist, cdist"
   ]
  },
  {
   "cell_type": "code",
   "execution_count": 3,
   "metadata": {},
   "outputs": [],
   "source": [
    "#DLEDMD\n",
    "import tensorflow as tf\n",
    "import DLEDMD"
   ]
  },
  {
   "cell_type": "code",
   "execution_count": 4,
   "metadata": {},
   "outputs": [],
   "source": [
    "#MSE and NSE\n",
    "def MSE(x,y):\n",
    "    return np.sqrt(np.mean(np.square(x-y)))\n",
    "\n",
    "def NSE(pre,tar):\n",
    "    a=np.sum(np.square(pre-tar))/np.sum(np.square(tar-np.mean(tar)))\n",
    "    return 1-a"
   ]
  },
  {
   "cell_type": "code",
   "execution_count": 5,
   "metadata": {},
   "outputs": [
    {
     "name": "stdout",
     "output_type": "stream",
     "text": [
      "(1080, 13)\n"
     ]
    }
   ],
   "source": [
    "def Pre_data():\n",
    "    #Prepare training data (set0)\n",
    "    df_s0 = pd.read_excel(r'./save_data/excelfile/rain0_set0_state_data.xlsx')\n",
    "    df_a0= pd.read_excel(r'./save_data/excelfile/rain0_set0_action_data.xlsx')\n",
    "    df_r0= pd.read_excel(r'./save_data/excelfile/rain0_set0_rain_data.xlsx')\n",
    "    dt_s0=df_s0.values[:1,1:]\n",
    "    dt_a0=df_a0.values[:1,1:]\n",
    "    dt_r0=df_r0.values[:1,1:]\n",
    "    \n",
    "    data=np.concatenate((dt_s0,dt_a0,dt_r0),axis=1)\n",
    "    for it in [0,2,4,6,8,9]:\n",
    "        for jt in [0,1,2]:   \n",
    "            df_s0 = pd.read_excel(r'./save_data/excelfile/rain'+str(it)+'_set'+str(jt)+'_state_data.xlsx')\n",
    "            df_a0= pd.read_excel(r'./save_data/excelfile/rain'+str(it)+'_set'+str(jt)+'_action_data.xlsx')\n",
    "            df_r0= pd.read_excel(r'./save_data/excelfile/rain'+str(it)+'_set'+str(jt)+'_rain_data.xlsx')\n",
    "            dt_s0=df_s0.values[:,1:]\n",
    "            dt_a0=df_a0.values[:,1:]\n",
    "            dt_r0=df_r0.values[:,1:]\n",
    "            tem=np.concatenate((dt_s0,dt_a0,dt_r0),axis=1)\n",
    "            data=np.concatenate((data,tem),axis=0)\n",
    "    \n",
    "    data=data[1:,:]\n",
    "            \n",
    "    #Prepare test1 data\n",
    "    df_s0 = pd.read_excel(r'./save_data/excelfile/rain0_set1_state_data.xlsx')\n",
    "    df_a0= pd.read_excel(r'./save_data/excelfile/rain0_set1_action_data.xlsx')\n",
    "    df_r0= pd.read_excel(r'./save_data/excelfile/rain0_set1_rain_data.xlsx')\n",
    "    dt_s0=df_s0.values[:,1:]\n",
    "    dt_a0=df_a0.values[:,1:]\n",
    "    dt_r0=df_r0.values[:,1:]\n",
    "    data_test1=[]\n",
    "    data_test1.append(np.concatenate((dt_s0,dt_a0,dt_r0),axis=1))\n",
    "    for it in [3,5,7]:\n",
    "        for jt in [1]:   \n",
    "            df_s0 = pd.read_excel(r'./save_data/excelfile/rain'+str(it)+'_set'+str(jt)+'_state_data.xlsx')\n",
    "            df_a0= pd.read_excel(r'./save_data/excelfile/rain'+str(it)+'_set'+str(jt)+'_action_data.xlsx')\n",
    "            df_r0= pd.read_excel(r'./save_data/excelfile/rain'+str(it)+'_set'+str(jt)+'_rain_data.xlsx')\n",
    "            dt_s0=df_s0.values[:,1:]\n",
    "            dt_a0=df_a0.values[:,1:]\n",
    "            dt_r0=df_r0.values[:,1:]\n",
    "            tem=np.concatenate((dt_s0,dt_a0,dt_r0),axis=1)\n",
    "            data_test1.append(tem)\n",
    "    \n",
    "    #Prepare training data2 (set0)\n",
    "    df_s0 = pd.read_excel(r'./save_data/excelfile/rain0_set0_state_data.xlsx')\n",
    "    df_a0= pd.read_excel(r'./save_data/excelfile/rain0_set0_action_data.xlsx')\n",
    "    df_r0= pd.read_excel(r'./save_data/excelfile/rain0_set0_rain_data.xlsx')\n",
    "    dt_s0=df_s0.values[:,1:]\n",
    "    dt_a0=df_a0.values[:,1:]\n",
    "    dt_r0=df_r0.values[:,1:]\n",
    "    \n",
    "    return data,data_test1\n",
    "\n",
    "data,data_test1=Pre_data()\n",
    "print(data.shape)"
   ]
  },
  {
   "cell_type": "markdown",
   "metadata": {},
   "source": [
    "# DLEDMD"
   ]
  },
  {
   "cell_type": "code",
   "execution_count": 6,
   "metadata": {},
   "outputs": [
    {
     "name": "stdout",
     "output_type": "stream",
     "text": [
      "INFO:tensorflow:Restoring parameters from ./emulator_model/DLEDMD_emulator_model/DLEDMD_model.ckpt\n"
     ]
    }
   ],
   "source": [
    "X_train=data[:data.shape[0]-2,:4]\n",
    "X_train_F=data[:data.shape[0]-2,4:]\n",
    "Y_train=data[1:data.shape[0]-1,:4]\n",
    "\n",
    "g2=tf.Graph()\n",
    "with g2.as_default():\n",
    "    params={}\n",
    "    params['enlayers']=[[4+9,10],[10,50],[50,100],[100,100]]\n",
    "    params['K']=[100,100]\n",
    "    params['delayers']=[[100,100],[100,50],[50,10],[10,4]]\n",
    "\n",
    "    params['input_layer']=4#X_train.shape[1]\n",
    "    params['f_layer']=9#X_train_F.shape[1]\n",
    "    params['output_layer']=4#Y_train.shape[1]\n",
    "    params['lr']=0.0001\n",
    "\n",
    "\n",
    "    model=DLEDMD.DLEDMD(params,X_train,Y_train,X_train_F)\n",
    "    ybar=model.forward_net(model.x,model.f)\n",
    "    loss=model.Loss(model.x,model.f,model.y)\n",
    "    op=model.opt(loss)\n",
    "    sess=tf.compat.v1.Session()\n",
    "    \n",
    "    #init_op = tf.compat.v1.global_variables_initializer()\n",
    "    #sess.run(init_op)\n",
    "    \n",
    "    saver = tf.compat.v1.train.Saver()\n",
    "    \n",
    "    saver.restore(sess,'./emulator_model/DLEDMD_emulator_model/DLEDMD_model.ckpt')"
   ]
  },
  {
   "cell_type": "code",
   "execution_count": 16,
   "metadata": {},
   "outputs": [],
   "source": [
    "u,s,v=np.linalg.svd(K)"
   ]
  },
  {
   "cell_type": "code",
   "execution_count": 17,
   "metadata": {},
   "outputs": [],
   "source": [
    "S,U=np.linalg.eig(K)"
   ]
  },
  {
   "cell_type": "code",
   "execution_count": 18,
   "metadata": {},
   "outputs": [
    {
     "data": {
      "image/png": "[encoded data removed]",
      "text/plain": [
       "<Figure size 432x288 with 1 Axes>"
      ]
     },
     "metadata": {
      "needs_background": "light"
     },
     "output_type": "display_data"
    }
   ],
   "source": [
    "plt.scatter([i for i in range(s.shape[0])],s)\n",
    "plt.plot(s,'r:')\n",
    "plt.savefig('6.3-singular.png', bbox_inches='tight', dpi=500)   "
   ]
  },
  {
   "cell_type": "code",
   "execution_count": 19,
   "metadata": {},
   "outputs": [],
   "source": [
    "eig_data=[]\n",
    "for s in S:\n",
    "    eig_data.append([np.real(s),np.imag(s)])"
   ]
  },
  {
   "cell_type": "code",
   "execution_count": 20,
   "metadata": {},
   "outputs": [],
   "source": [
    "eig_data=np.array(eig_data)"
   ]
  },
  {
   "cell_type": "code",
   "execution_count": 21,
   "metadata": {},
   "outputs": [
    {
     "data": {
      "text/plain": [
       "Text(0, 0.5, 'Image')"
      ]
     },
     "execution_count": 21,
     "metadata": {},
     "output_type": "execute_result"
    },
    {
     "data": {
      "image/png": "[encoded data removed]",
      "text/plain": [
       "<Figure size 360x360 with 1 Axes>"
      ]
     },
     "metadata": {
      "needs_background": "light"
     },
     "output_type": "display_data"
    }
   ],
   "source": [
    "plt.figure(figsize=(5,5))\n",
    "plt.scatter(eig_data[:,0],eig_data[:,1])\n",
    "plt.axhline(y=0,ls=\":\",c=\"grey\")#添加水平直线\n",
    "plt.axvline(x=0,ls=\":\",c=\"grey\")#添加水平直线\n",
    "\n",
    "theta = np.linspace(0, 2 * np.pi, 200)\n",
    "x = np.cos(theta)\n",
    "y = np.sin(theta)\n",
    "plt.plot(x, y, color=\"darkred\", linewidth=1,linestyle=':')\n",
    "\n",
    "font1 = {'family' : 'Times New Roman',\n",
    "         'weight' : 'normal',\n",
    "         'size'   : 20,}\n",
    "plt.xlabel('Real',font=font1)\n",
    "plt.ylabel('Image',font=font1)\n",
    "\n",
    "plt.savefig('6.3-eigenvalues.png', bbox_inches='tight', dpi=500)   "
   ]
  },
  {
   "cell_type": "markdown",
   "metadata": {},
   "source": [
    "# Draw singular fig"
   ]
  },
  {
   "cell_type": "code",
   "execution_count": 76,
   "metadata": {},
   "outputs": [
    {
     "data": {
      "text/plain": [
       "<matplotlib.image.AxesImage at 0x18ca8963190>"
      ]
     },
     "execution_count": 76,
     "metadata": {},
     "output_type": "execute_result"
    },
    {
     "data": {
      "image/png": "[encoded data removed]",
      "text/plain": [
       "<Figure size 288x288 with 1 Axes>"
      ]
     },
     "metadata": {
      "needs_background": "light"
     },
     "output_type": "display_data"
    }
   ],
   "source": [
    "results=[]\n",
    "for i in np.arange(-2,2,0.05):\n",
    "    line=[]\n",
    "    for j in np.arange(-2,2,0.05):\n",
    "        xt=[i,j]\n",
    "        tem=[it for it in range(98)]\n",
    "        x=np.array(xt+tem)\n",
    "        #line.append(x.dot(u[1,:]))\n",
    "        line.append(x.dot(v.T[80,:]))\n",
    "    results.append(line)\n",
    "results=np.array(results)\n",
    "plt.matshow(results)"
   ]
  },
  {
   "cell_type": "code",
   "execution_count": 35,
   "metadata": {},
   "outputs": [
    {
     "data": {
      "text/plain": [
       "100"
      ]
     },
     "execution_count": 35,
     "metadata": {},
     "output_type": "execute_result"
    }
   ],
   "source": [
    "fig,axs="
   ]
  },
  {
   "cell_type": "code",
   "execution_count": null,
   "metadata": {},
   "outputs": [],
   "source": []
  }
 ],
 "metadata": {
  "kernelspec": {
   "display_name": "Python 3",
   "language": "python",
   "name": "python3"
  },
  "language_info": {
   "codemirror_mode": {
    "name": "ipython",
    "version": 3
   },
   "file_extension": ".py",
   "mimetype": "text/x-python",
   "name": "python",
   "nbconvert_exporter": "python",
   "pygments_lexer": "ipython3",
   "version": "3.7.4"
  }
 },
 "nbformat": 4,
 "nbformat_minor": 4
}

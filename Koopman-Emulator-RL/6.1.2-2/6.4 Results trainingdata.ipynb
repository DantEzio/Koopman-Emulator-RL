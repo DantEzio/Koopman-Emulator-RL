{
 "cells": [
  {
   "cell_type": "code",
   "execution_count": 1,
   "metadata": {},
   "outputs": [],
   "source": [
    "import numpy as np\n",
    "import scipy.linalg as linalg\n",
    "import matplotlib.pyplot as plt\n",
    "import pandas as pd\n",
    "from scipy.spatial.distance import pdist, cdist"
   ]
  },
  {
   "cell_type": "code",
   "execution_count": 4,
   "metadata": {},
   "outputs": [],
   "source": [
    "#DLEDMD\n",
    "import tensorflow as tf\n",
    "import DLEDMD"
   ]
  },
  {
   "cell_type": "code",
   "execution_count": 5,
   "metadata": {},
   "outputs": [],
   "source": [
    "#MSE and NSE\n",
    "def MSE(x,y):\n",
    "    return np.sqrt(np.mean(np.square(x-y)))\n",
    "\n",
    "def NSE(pre,tar):\n",
    "    a=np.sum(np.square(pre-tar))/np.sum(np.square(tar-np.mean(tar)))\n",
    "    return 1-a"
   ]
  },
  {
   "cell_type": "code",
   "execution_count": 39,
   "metadata": {},
   "outputs": [
    {
     "name": "stdout",
     "output_type": "stream",
     "text": [
      "(60, 13)\n"
     ]
    }
   ],
   "source": [
    "def Pre_data():\n",
    "    #Prepare training data (set0)\n",
    "    df_s0 = pd.read_excel(r'./save_data/excelfile/rain0_set0_state_data.xlsx')\n",
    "    df_a0= pd.read_excel(r'./save_data/excelfile/rain0_set0_action_data.xlsx')\n",
    "    df_r0= pd.read_excel(r'./save_data/excelfile/rain0_set0_rain_data.xlsx')\n",
    "    dt_s0=df_s0.values[:1,1:]\n",
    "    dt_a0=df_a0.values[:1,1:]\n",
    "    dt_r0=df_r0.values[:1,1:]\n",
    "    \n",
    "    data=np.concatenate((dt_s0,dt_a0,dt_r0),axis=1)\n",
    "    for it in [0]:\n",
    "        for jt in [0]:   \n",
    "            df_s0 = pd.read_excel(r'./save_data/excelfile/rain'+str(it)+'_set'+str(jt)+'_state_data.xlsx')\n",
    "            df_a0= pd.read_excel(r'./save_data/excelfile/rain'+str(it)+'_set'+str(jt)+'_action_data.xlsx')\n",
    "            df_r0= pd.read_excel(r'./save_data/excelfile/rain'+str(it)+'_set'+str(jt)+'_rain_data.xlsx')\n",
    "            dt_s0=df_s0.values[:,1:]\n",
    "            dt_a0=df_a0.values[:,1:]\n",
    "            dt_r0=df_r0.values[:,1:]\n",
    "            tem=np.concatenate((dt_s0,dt_a0,dt_r0),axis=1)\n",
    "            data=np.concatenate((data,tem),axis=0)\n",
    "    \n",
    "    data=data[1:,:]\n",
    "            \n",
    "    #Prepare test1 data\n",
    "    df_s0 = pd.read_excel(r'./save_data/excelfile/rain0_set1_state_data.xlsx')\n",
    "    df_a0= pd.read_excel(r'./save_data/excelfile/rain0_set1_action_data.xlsx')\n",
    "    df_r0= pd.read_excel(r'./save_data/excelfile/rain0_set1_rain_data.xlsx')\n",
    "    dt_s0=df_s0.values[:,1:]\n",
    "    dt_a0=df_a0.values[:,1:]\n",
    "    dt_r0=df_r0.values[:,1:]\n",
    "    data_test1=[]\n",
    "    data_test1.append(np.concatenate((dt_s0,dt_a0,dt_r0),axis=1))\n",
    "    for it in [0,2,4,9]:\n",
    "        for jt in [0]:   \n",
    "            df_s0 = pd.read_excel(r'./save_data/excelfile/rain'+str(it)+'_set'+str(jt)+'_state_data.xlsx')\n",
    "            df_a0= pd.read_excel(r'./save_data/excelfile/rain'+str(it)+'_set'+str(jt)+'_action_data.xlsx')\n",
    "            df_r0= pd.read_excel(r'./save_data/excelfile/rain'+str(it)+'_set'+str(jt)+'_rain_data.xlsx')\n",
    "            dt_s0=df_s0.values[:,1:]\n",
    "            dt_a0=df_a0.values[:,1:]\n",
    "            dt_r0=df_r0.values[:,1:]\n",
    "            tem=np.concatenate((dt_s0,dt_a0,dt_r0),axis=1)\n",
    "            data_test1.append(tem)\n",
    "    \n",
    "    #Prepare training data2 (set0)\n",
    "    df_s0 = pd.read_excel(r'./save_data/excelfile/rain0_set0_state_data.xlsx')\n",
    "    df_a0= pd.read_excel(r'./save_data/excelfile/rain0_set0_action_data.xlsx')\n",
    "    df_r0= pd.read_excel(r'./save_data/excelfile/rain0_set0_rain_data.xlsx')\n",
    "    dt_s0=df_s0.values[:,1:]\n",
    "    dt_a0=df_a0.values[:,1:]\n",
    "    dt_r0=df_r0.values[:,1:]\n",
    "    \n",
    "    return data,data_test1\n",
    "\n",
    "data,data_test1=Pre_data()\n",
    "print(data.shape)"
   ]
  },
  {
   "cell_type": "markdown",
   "metadata": {},
   "source": [
    "# 测试不同数据集对最终预测的影响"
   ]
  },
  {
   "cell_type": "markdown",
   "metadata": {},
   "source": [
    "# DLEDMD 2"
   ]
  },
  {
   "cell_type": "code",
   "execution_count": 78,
   "metadata": {},
   "outputs": [
    {
     "name": "stdout",
     "output_type": "stream",
     "text": [
      "INFO:tensorflow:Restoring parameters from ./emulator_model/DLEDMD_emulator_model/2/DLEDMD_model.ckpt\n",
      "2.655432755778319e-05\n"
     ]
    },
    {
     "data": {
      "image/png": "[encoded data removed]",
      "text/plain": [
       "<Figure size 432x288 with 1 Axes>"
      ]
     },
     "metadata": {
      "needs_background": "light"
     },
     "output_type": "display_data"
    }
   ],
   "source": [
    "X_train=data[:data.shape[0]-2,:4]\n",
    "X_train_F=data[:data.shape[0]-2,4:]\n",
    "Y_train=data[1:data.shape[0]-1,:4]\n",
    "\n",
    "g2=tf.Graph()\n",
    "with g2.as_default():\n",
    "    params={}\n",
    "    params['enlayers']=[[4+9,10],[10,50],[50,100],[100,100]]\n",
    "    params['K']=[100,100]\n",
    "    params['delayers']=[[100,100],[100,50],[50,10],[10,4]]\n",
    "\n",
    "    params['input_layer']=4#X_train.shape[1]\n",
    "    params['f_layer']=9#X_train_F.shape[1]\n",
    "    params['output_layer']=4#Y_train.shape[1]\n",
    "    params['lr']=0.000001\n",
    "\n",
    "\n",
    "    model=DLEDMD.DLEDMD(params,X_train,Y_train,X_train_F)\n",
    "    ybar=model.forward_net(model.x,model.f)\n",
    "    loss=model.Loss(model.x,model.f,model.y)\n",
    "    op=model.opt(loss)\n",
    "    sess=tf.compat.v1.Session()\n",
    "    init_op = tf.compat.v1.global_variables_initializer()\n",
    "    #sess.run(init_op)\n",
    "    saver = tf.compat.v1.train.Saver()\n",
    "    saver.restore(sess,'./emulator_model/DLEDMD_emulator_model/2/DLEDMD_model.ckpt')\n",
    "    \n",
    "    epoch=20000\n",
    "    r1,r2=[],[]\n",
    "    for step in np.arange(epoch):\n",
    "        for i in np.arange(10):\n",
    "            sess.run(op,feed_dict={model.x:X_train,model.f:X_train_F,model.y:Y_train})\n",
    "        r1.append(sess.run(loss,feed_dict={model.x:X_train,model.f:X_train_F,model.y:Y_train}))\n",
    "        #r2.append(sess.run(model.Loss,feed_dict={model.x:X_test,model.y_bar:Y_test,model.f:X_test_F}))\n",
    "\n",
    "    plt.plot(r1)\n",
    "    print(np.min(r1))\n",
    "    saver=tf.compat.v1.train.Saver()\n",
    "    sp=saver.save(sess,'./emulator_model/DLEDMD_emulator_model/2/DLEDMD_model.ckpt') \n",
    "    "
   ]
  },
  {
   "cell_type": "code",
   "execution_count": 97,
   "metadata": {},
   "outputs": [
    {
     "name": "stdout",
     "output_type": "stream",
     "text": [
      "Rain number: 4\n",
      "MSE: 2.7483795399097413   NSE: 0.9369977195210816\n"
     ]
    },
    {
     "data": {
      "text/plain": [
       "[<matplotlib.lines.Line2D at 0x2b48ab92a48>]"
      ]
     },
     "execution_count": 97,
     "metadata": {},
     "output_type": "execute_result"
    },
    {
     "data": {
      "image/png": "[encoded data removed]",
      "text/plain": [
       "<Figure size 432x288 with 1 Axes>"
      ]
     },
     "metadata": {
      "needs_background": "light"
     },
     "output_type": "display_data"
    }
   ],
   "source": [
    "#Prediction 4 rainfall for testing\n",
    "#Prediction\n",
    "i=4\n",
    "X_test=data_test1[i][:47,:]\n",
    "Y_test=data_test1[i][1:48,:4]\n",
    "    \n",
    "print('Rain number:',i)\n",
    "y_D=np.zeros((Y_test.shape[0]-1,Y_test.shape[1]))\n",
    "X=X_test.copy()[:46,:4]\n",
    "F=X_test.copy()[:46,4:]\n",
    "xt=X[0]\n",
    "for t in np.arange(Y_test.shape[0]-1):\n",
    "    ytem=sess.run(ybar,feed_dict={model.x:xt.reshape((1,-1)),model.f:F[t].reshape((1,-1))})\n",
    "    y_D[t,:]=ytem\n",
    "    if t+1<Y_test.shape[0]:\n",
    "        xt=ytem\n",
    "print('MSE:',MSE(y_D,Y_test[:-1]),'  NSE:',NSE(y_D,Y_test[:-1]))\n",
    "plt.plot(y_D[:,3])\n",
    "plt.plot(Y_test[:,3])"
   ]
  },
  {
   "cell_type": "code",
   "execution_count": 98,
   "metadata": {},
   "outputs": [
    {
     "name": "stdout",
     "output_type": "stream",
     "text": [
      "Rain number: 1\n",
      "MSE: 0.009194051979404113   NSE: 0.9999992949551159\n",
      "Rain number: 2\n",
      "MSE: 1.0062217242073423   NSE: 0.9915551831500735\n",
      "Rain number: 3\n",
      "MSE: 1.1487753459740113   NSE: 0.988992896016205\n",
      "Rain number: 4\n",
      "MSE: 2.7483795399097413   NSE: 0.9369977195210816\n"
     ]
    }
   ],
   "source": [
    "for i in [1,2,3,4]:\n",
    "    X_test=data_test1[i][:47,:]\n",
    "    Y_test=data_test1[i][1:48,:4]\n",
    "\n",
    "    print('Rain number:',i)\n",
    "    y_D=np.zeros((Y_test.shape[0]-1,Y_test.shape[1]))\n",
    "    X=X_test.copy()[:46,:4]\n",
    "    F=X_test.copy()[:46,4:]\n",
    "    xt=X[0]\n",
    "    for t in np.arange(Y_test.shape[0]-1):\n",
    "        ytem=sess.run(ybar,feed_dict={model.x:xt.reshape((1,-1)),model.f:F[t].reshape((1,-1))})\n",
    "        y_D[t,:]=ytem\n",
    "        if t+1<Y_test.shape[0]:\n",
    "            xt=ytem\n",
    "    print('MSE:',MSE(y_D,Y_test[:-1]),'  NSE:',NSE(y_D,Y_test[:-1]))"
   ]
  },
  {
   "cell_type": "code",
   "execution_count": 82,
   "metadata": {},
   "outputs": [
    {
     "name": "stdout",
     "output_type": "stream",
     "text": [
      "Rain number: 0\n",
      "MSE: 2.255152328231715   NSE: 0.9491689529861744\n"
     ]
    },
    {
     "data": {
      "text/plain": [
       "[<matplotlib.lines.Line2D at 0x2b4895c7b08>]"
      ]
     },
     "execution_count": 82,
     "metadata": {},
     "output_type": "execute_result"
    },
    {
     "data": {
      "image/png": "[encoded data removed]",
      "text/plain": [
       "<Figure size 432x288 with 1 Axes>"
      ]
     },
     "metadata": {
      "needs_background": "light"
     },
     "output_type": "display_data"
    }
   ],
   "source": [
    "#Prediction 4 rainfall for testing\n",
    "#Reg\n",
    "i=0\n",
    "X_test=data_test1[i][:47,:]\n",
    "Y_test=data_test1[i][1:48,:4]\n",
    "    \n",
    "print('Rain number:',i)\n",
    "y_D=np.zeros((Y_test.shape[0]-1,Y_test.shape[1]))\n",
    "X=X_test.copy()[:46,:4]\n",
    "F=X_test.copy()[:46,4:]\n",
    "xt=X[0]\n",
    "for t in np.arange(Y_test.shape[0]-1):\n",
    "    ytem=sess.run(ybar,feed_dict={model.x:xt.reshape((1,-1)),model.f:F[t].reshape((1,-1))})\n",
    "    y_D[t,:]=ytem\n",
    "    if t+1<Y_test.shape[0]:\n",
    "        xt=X[t,:]#ytem\n",
    "print('MSE:',MSE(y_D,Y_test[:-1]),'  NSE:',NSE(y_D,Y_test[:-1]))\n",
    "plt.plot(y_D[:,3])\n",
    "plt.plot(Y_test[:,3])"
   ]
  },
  {
   "cell_type": "code",
   "execution_count": null,
   "metadata": {},
   "outputs": [],
   "source": []
  },
  {
   "cell_type": "code",
   "execution_count": null,
   "metadata": {},
   "outputs": [],
   "source": []
  }
 ],
 "metadata": {
  "kernelspec": {
   "display_name": "Python 3",
   "language": "python",
   "name": "python3"
  },
  "language_info": {
   "codemirror_mode": {
    "name": "ipython",
    "version": 3
   },
   "file_extension": ".py",
   "mimetype": "text/x-python",
   "name": "python",
   "nbconvert_exporter": "python",
   "pygments_lexer": "ipython3",
   "version": "3.7.4"
  }
 },
 "nbformat": 4,
 "nbformat_minor": 4
}

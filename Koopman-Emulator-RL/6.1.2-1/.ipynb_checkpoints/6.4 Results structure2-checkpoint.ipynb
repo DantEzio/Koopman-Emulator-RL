{
 "cells": [
  {
   "cell_type": "code",
   "execution_count": 1,
   "metadata": {},
   "outputs": [],
   "source": [
    "import numpy as np\n",
    "import scipy.linalg as linalg\n",
    "import matplotlib.pyplot as plt\n",
    "import pandas as pd\n",
    "from scipy.spatial.distance import pdist, cdist"
   ]
  },
  {
   "cell_type": "code",
   "execution_count": 4,
   "metadata": {},
   "outputs": [],
   "source": [
    "#DLEDMD\n",
    "import tensorflow as tf\n",
    "import DLEDMD"
   ]
  },
  {
   "cell_type": "code",
   "execution_count": 3,
   "metadata": {},
   "outputs": [],
   "source": [
    "#MSE and NSE\n",
    "def MSE(x,y):\n",
    "    return np.sqrt(np.mean(np.square(x-y)))\n",
    "\n",
    "def NSE(pre,tar):\n",
    "    a=np.sum(np.square(pre-tar))/np.sum(np.square(tar-np.mean(tar)))\n",
    "    return 1-a"
   ]
  },
  {
   "cell_type": "code",
   "execution_count": 5,
   "metadata": {},
   "outputs": [
    {
     "name": "stdout",
     "output_type": "stream",
     "text": [
      "(1800, 13)\n"
     ]
    }
   ],
   "source": [
    "def Pre_data():\n",
    "    #Prepare training data (set0)\n",
    "    df_s0 = pd.read_excel(r'./save_data/excelfile/rain0_set0_state_data.xlsx')\n",
    "    df_a0= pd.read_excel(r'./save_data/excelfile/rain0_set0_action_data.xlsx')\n",
    "    df_r0= pd.read_excel(r'./save_data/excelfile/rain0_set0_rain_data.xlsx')\n",
    "    dt_s0=df_s0.values[:1,1:]\n",
    "    dt_a0=df_a0.values[:1,1:]\n",
    "    dt_r0=df_r0.values[:1,1:]\n",
    "    \n",
    "    data=np.concatenate((dt_s0,dt_a0,dt_r0),axis=1)\n",
    "    for it in [0,1,2,3,4,5,6,7,8,9]:\n",
    "        for jt in [0,1,2]:   \n",
    "            df_s0 = pd.read_excel(r'./save_data/excelfile/rain'+str(it)+'_set'+str(jt)+'_state_data.xlsx')\n",
    "            df_a0= pd.read_excel(r'./save_data/excelfile/rain'+str(it)+'_set'+str(jt)+'_action_data.xlsx')\n",
    "            df_r0= pd.read_excel(r'./save_data/excelfile/rain'+str(it)+'_set'+str(jt)+'_rain_data.xlsx')\n",
    "            dt_s0=df_s0.values[:,1:]\n",
    "            dt_a0=df_a0.values[:,1:]\n",
    "            dt_r0=df_r0.values[:,1:]\n",
    "            tem=np.concatenate((dt_s0,dt_a0,dt_r0),axis=1)\n",
    "            data=np.concatenate((data,tem),axis=0)\n",
    "    \n",
    "    data=data[1:,:]\n",
    "            \n",
    "    #Prepare test1 data\n",
    "    df_s0 = pd.read_excel(r'./save_data/excelfile/rain0_set1_state_data.xlsx')\n",
    "    df_a0= pd.read_excel(r'./save_data/excelfile/rain0_set1_action_data.xlsx')\n",
    "    df_r0= pd.read_excel(r'./save_data/excelfile/rain0_set1_rain_data.xlsx')\n",
    "    dt_s0=df_s0.values[:,1:]\n",
    "    dt_a0=df_a0.values[:,1:]\n",
    "    dt_r0=df_r0.values[:,1:]\n",
    "    data_test1=[]\n",
    "    data_test1.append(np.concatenate((dt_s0,dt_a0,dt_r0),axis=1))\n",
    "    for it in [3,5,7]:\n",
    "        for jt in [1]:   \n",
    "            df_s0 = pd.read_excel(r'./save_data/excelfile/rain'+str(it)+'_set'+str(jt)+'_state_data.xlsx')\n",
    "            df_a0= pd.read_excel(r'./save_data/excelfile/rain'+str(it)+'_set'+str(jt)+'_action_data.xlsx')\n",
    "            df_r0= pd.read_excel(r'./save_data/excelfile/rain'+str(it)+'_set'+str(jt)+'_rain_data.xlsx')\n",
    "            dt_s0=df_s0.values[:,1:]\n",
    "            dt_a0=df_a0.values[:,1:]\n",
    "            dt_r0=df_r0.values[:,1:]\n",
    "            tem=np.concatenate((dt_s0,dt_a0,dt_r0),axis=1)\n",
    "            data_test1.append(tem)\n",
    "    \n",
    "    #Prepare training data2 (set0)\n",
    "    df_s0 = pd.read_excel(r'./save_data/excelfile/rain0_set0_state_data.xlsx')\n",
    "    df_a0= pd.read_excel(r'./save_data/excelfile/rain0_set0_action_data.xlsx')\n",
    "    df_r0= pd.read_excel(r'./save_data/excelfile/rain0_set0_rain_data.xlsx')\n",
    "    dt_s0=df_s0.values[:,1:]\n",
    "    dt_a0=df_a0.values[:,1:]\n",
    "    dt_r0=df_r0.values[:,1:]\n",
    "    \n",
    "    return data,data_test1\n",
    "\n",
    "data,data_test1=Pre_data()\n",
    "print(data.shape)"
   ]
  },
  {
   "cell_type": "markdown",
   "metadata": {},
   "source": [
    "# 5.1 Results"
   ]
  },
  {
   "cell_type": "markdown",
   "metadata": {},
   "source": [
    "# 十场降雨有三组不同控制序列，其中十场降雨的第一组控制用于训练，其余用于测试"
   ]
  },
  {
   "cell_type": "markdown",
   "metadata": {},
   "source": [
    "# 测试不同结构对最终预测的影响"
   ]
  },
  {
   "cell_type": "markdown",
   "metadata": {},
   "source": [
    "# DLEDMD 1"
   ]
  },
  {
   "cell_type": "code",
   "execution_count": 41,
   "metadata": {},
   "outputs": [
    {
     "name": "stdout",
     "output_type": "stream",
     "text": [
      "0.0032193929130272074\n"
     ]
    },
    {
     "data": {
      "image/png": "[encoded data removed]",
      "text/plain": [
       "<Figure size 432x288 with 1 Axes>"
      ]
     },
     "metadata": {
      "needs_background": "light"
     },
     "output_type": "display_data"
    }
   ],
   "source": [
    "X_train=data[:data.shape[0]-2,:4]\n",
    "X_train_F=data[:data.shape[0]-2,4:]\n",
    "Y_train=data[1:data.shape[0]-1,:4]\n",
    "\n",
    "g2=tf.Graph()\n",
    "with g2.as_default():\n",
    "    params={}\n",
    "    params['enlayers']=[[4+9,100],[100,100]]\n",
    "    params['K']=[100,100]\n",
    "    params['delayers']=[[100,100],[100,4]]\n",
    "\n",
    "    params['input_layer']=4#X_train.shape[1]\n",
    "    params['f_layer']=9#X_train_F.shape[1]\n",
    "    params['output_layer']=4#Y_train.shape[1]\n",
    "    params['lr']=0.00001\n",
    "\n",
    "\n",
    "    model=DLEDMD.DLEDMD(params,X_train,Y_train,X_train_F)\n",
    "    ybar=model.forward_net(model.x,model.f)\n",
    "    loss=model.Loss(model.x,model.f,model.y)\n",
    "    op=model.opt(loss)\n",
    "    sess=tf.compat.v1.Session()\n",
    "    init_op = tf.compat.v1.global_variables_initializer()\n",
    "    sess.run(init_op)\n",
    "    \n",
    "    #saver = tf.compat.v1.train.Saver()\n",
    "    #saver.restore(sess,'./emulator_model/DLEDMD_emulator_model/1/DLEDMD_model.ckpt')\n",
    "    epoch=10000\n",
    "    r1=[]\n",
    "    for step in np.arange(epoch):\n",
    "        for i in np.arange(10):\n",
    "            sess.run(op,feed_dict={model.x:X_train,model.f:X_train_F,model.y:Y_train})\n",
    "        r1.append(sess.run(loss,feed_dict={model.x:X_train,model.f:X_train_F,model.y:Y_train}))\n",
    "        #r2.append(sess.run(model.Loss,feed_dict={model.x:X_test,model.y_bar:Y_test,model.f:X_test_F}))\n",
    "\n",
    "    plt.plot(r1)\n",
    "    print(np.min(r1))\n",
    "    saver=tf.compat.v1.train.Saver()\n",
    "    sp=saver.save(sess,'./emulator_model/DLEDMD_emulator_model/1/DLEDMD_model.ckpt') \n",
    "    "
   ]
  },
  {
   "cell_type": "code",
   "execution_count": 46,
   "metadata": {},
   "outputs": [
    {
     "name": "stdout",
     "output_type": "stream",
     "text": [
      "Rain number: 3\n",
      "MSE: 2.0884615584854087   NSE: 0.9564727794119422\n"
     ]
    },
    {
     "data": {
      "text/plain": [
       "[<matplotlib.lines.Line2D at 0x1eb06c8bac8>]"
      ]
     },
     "execution_count": 46,
     "metadata": {},
     "output_type": "execute_result"
    },
    {
     "data": {
      "image/png": "[encoded data removed]",
      "text/plain": [
       "<Figure size 432x288 with 1 Axes>"
      ]
     },
     "metadata": {
      "needs_background": "light"
     },
     "output_type": "display_data"
    }
   ],
   "source": [
    "#Prediction 4 rainfall for testing\n",
    "#Prediction\n",
    "i=3\n",
    "X_test=data_test1[i][:47,:]\n",
    "Y_test=data_test1[i][1:48,:4]\n",
    "    \n",
    "print('Rain number:',i)\n",
    "y_D=np.zeros((Y_test.shape[0]-1,Y_test.shape[1]))\n",
    "X=X_test.copy()[:46,:4]\n",
    "F=X_test.copy()[:46,4:]\n",
    "xt=X[0]\n",
    "for t in np.arange(Y_test.shape[0]-1):\n",
    "    ytem=sess.run(ybar,feed_dict={model.x:xt.reshape((1,-1)),model.f:F[t].reshape((1,-1))})\n",
    "    y_D[t,:]=ytem\n",
    "    if t+1<Y_test.shape[0]:\n",
    "        xt=ytem\n",
    "print('MSE:',MSE(y_D,Y_test[:-1]),'  NSE:',NSE(y_D,Y_test[:-1]))\n",
    "\n",
    "plt.plot(y_D[:,3])\n",
    "plt.plot(Y_test[:,3])"
   ]
  },
  {
   "cell_type": "code",
   "execution_count": 43,
   "metadata": {},
   "outputs": [
    {
     "name": "stdout",
     "output_type": "stream",
     "text": [
      "Rain number: 1\n",
      "MSE: 0.65767795517555   NSE: 0.9959502942595304\n"
     ]
    },
    {
     "data": {
      "text/plain": [
       "[<matplotlib.lines.Line2D at 0x1eb06bd9fc8>]"
      ]
     },
     "execution_count": 43,
     "metadata": {},
     "output_type": "execute_result"
    },
    {
     "data": {
      "image/png": "[encoded data removed]",
      "text/plain": [
       "<Figure size 432x288 with 1 Axes>"
      ]
     },
     "metadata": {
      "needs_background": "light"
     },
     "output_type": "display_data"
    }
   ],
   "source": [
    "#Prediction 4 rainfall for testing\n",
    "#Reg\n",
    "i=1\n",
    "X_test=data_test1[i][:47,:]\n",
    "Y_test=data_test1[i][1:48,:4]\n",
    "    \n",
    "print('Rain number:',i)\n",
    "y_D=np.zeros((Y_test.shape[0]-1,Y_test.shape[1]))\n",
    "X=X_test.copy()[:46,:4]\n",
    "F=X_test.copy()[:46,4:]\n",
    "xt=X[0]\n",
    "for t in np.arange(Y_test.shape[0]-1):\n",
    "    ytem=sess.run(ybar,feed_dict={model.x:xt.reshape((1,-1)),model.f:F[t].reshape((1,-1))})\n",
    "    y_D[t,:]=ytem\n",
    "    if t+1<Y_test.shape[0]:\n",
    "        xt=X[t,:]#ytem\n",
    "print('MSE:',MSE(y_D,Y_test[:-1]),'  NSE:',NSE(y_D,Y_test[:-1]))\n",
    "\n",
    "plt.plot(y_D[:,3])\n",
    "plt.plot(Y_test[:,3])"
   ]
  },
  {
   "cell_type": "markdown",
   "metadata": {},
   "source": [
    "# DLEDMD 2"
   ]
  },
  {
   "cell_type": "code",
   "execution_count": 208,
   "metadata": {},
   "outputs": [
    {
     "name": "stdout",
     "output_type": "stream",
     "text": [
      "INFO:tensorflow:Restoring parameters from ./emulator_model/DLEDMD_emulator_model/DLEDMD_model.ckpt\n"
     ]
    }
   ],
   "source": [
    "X_train=data[:data.shape[0]-2,:4]\n",
    "X_train_F=data[:data.shape[0]-2,4:]\n",
    "Y_train=data[1:data.shape[0]-1,:4]\n",
    "\n",
    "g2=tf.Graph()\n",
    "with g2.as_default():\n",
    "    params={}\n",
    "    params['enlayers']=[[4+9,10],[10,50],[50,100],[100,100]]\n",
    "    params['K']=[100,100]\n",
    "    params['delayers']=[[100,100],[100,50],[50,10],[10,4]]\n",
    "\n",
    "    params['input_layer']=4#X_train.shape[1]\n",
    "    params['f_layer']=9#X_train_F.shape[1]\n",
    "    params['output_layer']=4#Y_train.shape[1]\n",
    "    params['lr']=0.0001\n",
    "\n",
    "\n",
    "    model=DLEDMD.DLEDMD(params,X_train,Y_train,X_train_F)\n",
    "    ybar=model.forward_net(model.x,model.f)\n",
    "    loss=model.Loss(model.x,model.f,model.y)\n",
    "    op=model.opt(loss)\n",
    "    sess=tf.compat.v1.Session()\n",
    "    init_op = tf.compat.v1.global_variables_initializer()\n",
    "    sess.run(init_op)\n",
    "    saver = tf.compat.v1.train.Saver()\n",
    "    \n",
    "    saver.restore(sess,'./emulator_model/DLEDMD_emulator_model/2/DLEDMD_model.ckpt')\n",
    "    '''\n",
    "    epoch=20000\n",
    "    r1,r2=[],[]\n",
    "    for step in np.arange(epoch):\n",
    "        for i in np.arange(10):\n",
    "            sess.run(op,feed_dict={model.x:X_train,model.f:X_train_F,model.y:Y_train})\n",
    "        r1.append(sess.run(loss,feed_dict={model.x:X_train,model.f:X_train_F,model.y:Y_train}))\n",
    "        #r2.append(sess.run(model.Loss,feed_dict={model.x:X_test,model.y_bar:Y_test,model.f:X_test_F}))\n",
    "\n",
    "    plt.plot(r1)\n",
    "    print(np.min(r1))\n",
    "    saver=tf.compat.v1.train.Saver()\n",
    "    sp=saver.save(sess,'./emulator_model/DLEDMD_emulator_model/2/DLEDMD_model.ckpt') \n",
    "    '''"
   ]
  },
  {
   "cell_type": "code",
   "execution_count": null,
   "metadata": {},
   "outputs": [],
   "source": [
    "#Prediction 4 rainfall for testing\n",
    "#Prediction\n",
    "i=1\n",
    "X_test=data_test1[i][:47,:]\n",
    "Y_test=data_test1[i][1:48,:4]\n",
    "    \n",
    "print('Rain number:',i)\n",
    "y_D=np.zeros((Y_test.shape[0]-1,Y_test.shape[1]))\n",
    "X=X_test.copy()[:46,:4]\n",
    "F=X_test.copy()[:46,4:]\n",
    "xt=X[0]\n",
    "for t in np.arange(Y_test.shape[0]-1):\n",
    "    ytem=sess.run(ybar,feed_dict={model.x:xt.reshape((1,-1)),model.f:F[t].reshape((1,-1))})\n",
    "    y_D[t,:]=ytem\n",
    "    if t+1<Y_test.shape[0]:\n",
    "        xt=ytem\n",
    "print('MSE:',MSE(y_D,Y_test[:-1]),'  NSE:',NSE(y_D,Y_test[:-1]))\n",
    "plt.plot(y_D[:,3])\n",
    "plt.plot(Y_test[:,3])"
   ]
  },
  {
   "cell_type": "code",
   "execution_count": null,
   "metadata": {},
   "outputs": [],
   "source": [
    "#Prediction 4 rainfall for testing\n",
    "#Reg\n",
    "i=1\n",
    "X_test=data_test1[i][:47,:]\n",
    "Y_test=data_test1[i][1:48,:4]\n",
    "    \n",
    "print('Rain number:',i)\n",
    "y_D=np.zeros((Y_test.shape[0]-1,Y_test.shape[1]))\n",
    "X=X_test.copy()[:46,:4]\n",
    "F=X_test.copy()[:46,4:]\n",
    "xt=X[0]\n",
    "for t in np.arange(Y_test.shape[0]-1):\n",
    "    ytem=sess.run(ybar,feed_dict={model.x:xt.reshape((1,-1)),model.f:F[t].reshape((1,-1))})\n",
    "    y_D[t,:]=ytem\n",
    "    if t+1<Y_test.shape[0]:\n",
    "        xt=X[t,:]#ytem\n",
    "print('MSE:',MSE(y_D,Y_test[:-1]),'  NSE:',NSE(y_D,Y_test[:-1]))\n",
    "plt.plot(y_D[:,3])\n",
    "plt.plot(Y_test[:,3])"
   ]
  },
  {
   "cell_type": "markdown",
   "metadata": {},
   "source": [
    "# DLEDMD3"
   ]
  },
  {
   "cell_type": "code",
   "execution_count": 51,
   "metadata": {},
   "outputs": [
    {
     "name": "stdout",
     "output_type": "stream",
     "text": [
      "INFO:tensorflow:Restoring parameters from ./emulator_model/DLEDMD_emulator_model/3/DLEDMD_model.ckpt\n",
      "0.0060781361364463165\n"
     ]
    },
    {
     "data": {
      "image/png": "[encoded data removed]",
      "text/plain": [
       "<Figure size 432x288 with 1 Axes>"
      ]
     },
     "metadata": {
      "needs_background": "light"
     },
     "output_type": "display_data"
    }
   ],
   "source": [
    "X_train=data[:data.shape[0]-2,:4]\n",
    "X_train_F=data[:data.shape[0]-2,4:]\n",
    "Y_train=data[1:data.shape[0]-1,:4]\n",
    "\n",
    "g3=tf.Graph()\n",
    "with g3.as_default():\n",
    "    params={}\n",
    "    params['enlayers']=[[4+9,100],[100,100],[100,100]]\n",
    "    params['K']=[100,100]\n",
    "    params['delayers']=[[100,100],[100,100],[100,4]]\n",
    "\n",
    "    params['input_layer']=4#X_train.shape[1]\n",
    "    params['f_layer']=9#X_train_F.shape[1]\n",
    "    params['output_layer']=4#Y_train.shape[1]\n",
    "    params['lr']=0.00001\n",
    "\n",
    "    model=DLEDMD.DLEDMD(params,X_train,Y_train,X_train_F)\n",
    "    ybar=model.forward_net(model.x,model.f)\n",
    "    loss=model.Loss(model.x,model.f,model.y)\n",
    "    op=model.opt(loss)\n",
    "    sess=tf.compat.v1.Session()\n",
    "    init_op = tf.compat.v1.global_variables_initializer()\n",
    "    sess.run(init_op)\n",
    "    \n",
    "    saver = tf.compat.v1.train.Saver()\n",
    "    saver.restore(sess,'./emulator_model/DLEDMD_emulator_model/3/DLEDMD_model.ckpt')\n",
    "    \n",
    "    \n",
    "    epoch=10000\n",
    "    r1=[]\n",
    "    for step in np.arange(epoch):\n",
    "        for i in np.arange(10):\n",
    "            sess.run(op,feed_dict={model.x:X_train,model.f:X_train_F,model.y:Y_train})\n",
    "        r1.append(sess.run(loss,feed_dict={model.x:X_train,model.f:X_train_F,model.y:Y_train}))\n",
    "        #r2.append(sess.run(model.Loss,feed_dict={model.x:X_test,model.y_bar:Y_test,model.f:X_test_F}))\n",
    "\n",
    "    plt.plot(r1)\n",
    "    print(np.min(r1))\n",
    "    saver=tf.compat.v1.train.Saver()\n",
    "    sp=saver.save(sess,'./emulator_model/DLEDMD_emulator_model/3/DLEDMD_model.ckpt')\n",
    "    "
   ]
  },
  {
   "cell_type": "code",
   "execution_count": 57,
   "metadata": {},
   "outputs": [
    {
     "name": "stdout",
     "output_type": "stream",
     "text": [
      "Rain number: 3\n",
      "MSE: 0.8803284363355646   NSE: 0.9922661200557132\n"
     ]
    },
    {
     "data": {
      "text/plain": [
       "[<matplotlib.lines.Line2D at 0x1eb062b4e88>]"
      ]
     },
     "execution_count": 57,
     "metadata": {},
     "output_type": "execute_result"
    },
    {
     "data": {
      "image/png": "[encoded data removed]",
      "text/plain": [
       "<Figure size 432x288 with 1 Axes>"
      ]
     },
     "metadata": {
      "needs_background": "light"
     },
     "output_type": "display_data"
    }
   ],
   "source": [
    "#Prediction 4 rainfall for testing\n",
    "#Prediction\n",
    "i=3\n",
    "X_test=data_test1[i][:47,:]\n",
    "Y_test=data_test1[i][1:48,:4]\n",
    "    \n",
    "print('Rain number:',i)\n",
    "y_D=np.zeros((Y_test.shape[0]-1,Y_test.shape[1]))\n",
    "X=X_test.copy()[:46,:4]\n",
    "F=X_test.copy()[:46,4:]\n",
    "xt=X[0]\n",
    "for t in np.arange(Y_test.shape[0]-1):\n",
    "    ytem=sess.run(ybar,feed_dict={model.x:xt.reshape((1,-1)),model.f:F[t].reshape((1,-1))})\n",
    "    y_D[t,:]=ytem\n",
    "    if t+1<Y_test.shape[0]:\n",
    "        xt=ytem\n",
    "print('MSE:',MSE(y_D,Y_test[:-1]),'  NSE:',NSE(y_D,Y_test[:-1]))\n",
    "plt.plot(y_D[:,3])\n",
    "plt.plot(Y_test[:,3])"
   ]
  },
  {
   "cell_type": "code",
   "execution_count": 54,
   "metadata": {},
   "outputs": [
    {
     "name": "stdout",
     "output_type": "stream",
     "text": [
      "Rain number: 1\n",
      "MSE: 0.7000441886626576   NSE: 0.995411742245438\n"
     ]
    },
    {
     "data": {
      "text/plain": [
       "[<matplotlib.lines.Line2D at 0x1eb06f04948>]"
      ]
     },
     "execution_count": 54,
     "metadata": {},
     "output_type": "execute_result"
    },
    {
     "data": {
      "image/png": "[encoded data removed]",
      "text/plain": [
       "<Figure size 432x288 with 1 Axes>"
      ]
     },
     "metadata": {
      "needs_background": "light"
     },
     "output_type": "display_data"
    }
   ],
   "source": [
    "#Prediction 4 rainfall for testing\n",
    "#Reg\n",
    "i=1\n",
    "X_test=data_test1[i][:47,:]\n",
    "Y_test=data_test1[i][1:48,:4]\n",
    "    \n",
    "print('Rain number:',i)\n",
    "y_D=np.zeros((Y_test.shape[0]-1,Y_test.shape[1]))\n",
    "X=X_test.copy()[:46,:4]\n",
    "F=X_test.copy()[:46,4:]\n",
    "xt=X[0]\n",
    "for t in np.arange(Y_test.shape[0]-1):\n",
    "    ytem=sess.run(ybar,feed_dict={model.x:xt.reshape((1,-1)),model.f:F[t].reshape((1,-1))})\n",
    "    y_D[t,:]=ytem\n",
    "    if t+1<Y_test.shape[0]:\n",
    "        xt=X[t,:]#ytem\n",
    "print('MSE:',MSE(y_D,Y_test[:-1]),'  NSE:',NSE(y_D,Y_test[:-1]))\n",
    "plt.plot(y_D[:,3])\n",
    "plt.plot(Y_test[:,3])"
   ]
  },
  {
   "cell_type": "code",
   "execution_count": null,
   "metadata": {},
   "outputs": [],
   "source": []
  }
 ],
 "metadata": {
  "kernelspec": {
   "display_name": "Python 3",
   "language": "python",
   "name": "python3"
  },
  "language_info": {
   "codemirror_mode": {
    "name": "ipython",
    "version": 3
   },
   "file_extension": ".py",
   "mimetype": "text/x-python",
   "name": "python",
   "nbconvert_exporter": "python",
   "pygments_lexer": "ipython3",
   "version": "3.7.4"
  }
 },
 "nbformat": 4,
 "nbformat_minor": 4
}
